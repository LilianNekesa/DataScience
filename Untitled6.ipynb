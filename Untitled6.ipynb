{
 "cells": [
  {
   "cell_type": "markdown",
   "id": "1311c6d6-6096-4340-ace8-0fa1e2fe8930",
   "metadata": {},
   "source": [
    "The goal of this assignment is to build a classification model to predict whether a customer will churn (stop using a service) based on their features and interactions with the service."
   ]
  },
  {
   "cell_type": "code",
   "execution_count": null,
   "id": "57eb7b0f-55df-4531-a8b0-5d41097cc3cc",
   "metadata": {},
   "outputs": [],
   "source": []
  }
 ],
 "metadata": {
  "kernelspec": {
   "display_name": "Python 3 (ipykernel)",
   "language": "python",
   "name": "python3"
  },
  "language_info": {
   "codemirror_mode": {
    "name": "ipython",
    "version": 3
   },
   "file_extension": ".py",
   "mimetype": "text/x-python",
   "name": "python",
   "nbconvert_exporter": "python",
   "pygments_lexer": "ipython3",
   "version": "3.11.7"
  }
 },
 "nbformat": 4,
 "nbformat_minor": 5
}
