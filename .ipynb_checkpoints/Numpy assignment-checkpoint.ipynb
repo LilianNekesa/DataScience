{
 "cells": [
  {
   "cell_type": "code",
   "execution_count": 1,
   "id": "f8a073f6",
   "metadata": {},
   "outputs": [],
   "source": [
    "import numpy as np"
   ]
  },
  {
   "cell_type": "code",
   "execution_count": 2,
   "id": "addbdba4",
   "metadata": {},
   "outputs": [],
   "source": [
    "heights = np.array([160, 155, 172, 165, 180, 158, 175, 163, 171, 168])\n"
   ]
  },
  {
   "cell_type": "code",
   "execution_count": null,
   "id": "948e9a88",
   "metadata": {},
   "outputs": [],
   "source": [
    "#Calculate the mean, median, and standard deviation of the students' heights."
   ]
  },
  {
   "cell_type": "code",
   "execution_count": 3,
   "id": "2d8a769a",
   "metadata": {},
   "outputs": [
    {
     "name": "stdout",
     "output_type": "stream",
     "text": [
      "mean: 166.7\n"
     ]
    }
   ],
   "source": [
    "mean=np.mean(heights)\n",
    "print(\"mean:\", mean)"
   ]
  },
  {
   "cell_type": "code",
   "execution_count": 4,
   "id": "abe6faf5",
   "metadata": {},
   "outputs": [
    {
     "name": "stdout",
     "output_type": "stream",
     "text": [
      "median: 166.5\n"
     ]
    }
   ],
   "source": [
    "median=np.median(heights)\n",
    "print(\"median:\", median)"
   ]
  },
  {
   "cell_type": "code",
   "execution_count": 6,
   "id": "872421e2",
   "metadata": {},
   "outputs": [
    {
     "name": "stdout",
     "output_type": "stream",
     "text": [
      "standard deviation: 7.5372408744845085\n"
     ]
    }
   ],
   "source": [
    "std_dev=np.std(heights)\n",
    "print(\"standard deviation:\", std_dev)"
   ]
  },
  {
   "cell_type": "code",
   "execution_count": null,
   "id": "9f82c939",
   "metadata": {},
   "outputs": [],
   "source": [
    "#Create a new array with the heights normalized, i.e., each height value should be transformed to have a mean of 0 and a standard deviation of 1.\n"
   ]
  }
 ],
 "metadata": {
  "kernelspec": {
   "display_name": "Python 3 (ipykernel)",
   "language": "python",
   "name": "python3"
  },
  "language_info": {
   "codemirror_mode": {
    "name": "ipython",
    "version": 3
   },
   "file_extension": ".py",
   "mimetype": "text/x-python",
   "name": "python",
   "nbconvert_exporter": "python",
   "pygments_lexer": "ipython3",
   "version": "3.11.5"
  }
 },
 "nbformat": 4,
 "nbformat_minor": 5
}
