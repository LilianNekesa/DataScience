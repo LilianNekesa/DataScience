{
 "cells": [
  {
   "cell_type": "code",
   "execution_count": 1,
   "id": "57b978bb",
   "metadata": {},
   "outputs": [],
   "source": [
    "import numpy as np"
   ]
  },
  {
   "cell_type": "code",
   "execution_count": 2,
   "id": "da056d99",
   "metadata": {},
   "outputs": [],
   "source": [
    "heights = np.array([160, 155, 172, 165, 180, 158, 175, 163, 171, 168])\n"
   ]
  },
  {
   "cell_type": "code",
   "execution_count": null,
   "id": "124eeb5b",
   "metadata": {},
   "outputs": [],
   "source": [
    "#Calculate the mean, median, and standard deviation of the students' heights."
   ]
  },
  {
   "cell_type": "code",
   "execution_count": 3,
   "id": "a7ad795e",
   "metadata": {},
   "outputs": [
    {
     "name": "stdout",
     "output_type": "stream",
     "text": [
      "mean: 166.7\n"
     ]
    }
   ],
   "source": [
    "mean=np.mean(heights)\n",
    "print(\"mean:\", mean)"
   ]
  },
  {
   "cell_type": "code",
   "execution_count": 4,
   "id": "5f9d83a1",
   "metadata": {},
   "outputs": [
    {
     "name": "stdout",
     "output_type": "stream",
     "text": [
      "median: 166.5\n"
     ]
    }
   ],
   "source": [
    "median=np.median(heights)\n",
    "print(\"median:\", median)"
   ]
  },
  {
   "cell_type": "code",
   "execution_count": 6,
   "id": "e3c10701",
   "metadata": {},
   "outputs": [
    {
     "name": "stdout",
     "output_type": "stream",
     "text": [
      "standard deviation: 7.5372408744845085\n"
     ]
    }
   ],
   "source": [
    "std_dev=np.std(heights)\n",
    "print(\"standard deviation:\", std_dev)"
   ]
  },
  {
   "cell_type": "code",
   "execution_count": 13,
   "id": "8e1e89ba",
   "metadata": {},
   "outputs": [],
   "source": [
    "#Create a new array with the heights normalized, i.e., each height value should be transformed to have a mean of 0 and a standard deviation of 1.\n",
    "#Please help clarify this for me, should the heights be transformed separately in terms of mean and standard deviation?"
   ]
  },
  {
   "cell_type": "code",
   "execution_count": 14,
   "id": "9b318b7d",
   "metadata": {},
   "outputs": [
    {
     "name": "stdout",
     "output_type": "stream",
     "text": [
      "Heights normalized: [-0.88891945 -1.55229217  0.70317509 -0.22554673  1.76457144 -1.15426854\n",
      "  1.10119872 -0.49089581  0.57050054  0.17247691]\n"
     ]
    }
   ],
   "source": [
    "normalized_heights=(heights-mean)/std_dev\n",
    "print(\"Heights normalized:\", normalized_heights)"
   ]
  },
  {
   "cell_type": "code",
   "execution_count": null,
   "id": "a59b58ef",
   "metadata": {},
   "outputs": [],
   "source": [
    "#Determine the tallest and shortest students in the class using NumPy's argmax and argmin functions."
   ]
  },
  {
   "cell_type": "code",
   "execution_count": 16,
   "id": "e3caf210",
   "metadata": {},
   "outputs": [
    {
     "name": "stdout",
     "output_type": "stream",
     "text": [
      "The tallest students: 4\n"
     ]
    }
   ],
   "source": [
    "tallest_heights=np.argmax(heights)\n",
    "print(\"The tallest students:\", tallest_heights)"
   ]
  },
  {
   "cell_type": "code",
   "execution_count": 17,
   "id": "585fd9dd",
   "metadata": {},
   "outputs": [
    {
     "name": "stdout",
     "output_type": "stream",
     "text": [
      "The shortest student: 1\n"
     ]
    }
   ],
   "source": [
    "shortest_heights=np.argmin(heights)\n",
    "print(\"The shortest student:\",shortest_heights)"
   ]
  },
  {
   "cell_type": "code",
   "execution_count": null,
   "id": "6ee1fb0a",
   "metadata": {},
   "outputs": [],
   "source": [
    "#Calculate the difference between the tallest and shortest students' heights."
   ]
  },
  {
   "cell_type": "code",
   "execution_count": 19,
   "id": "2f3dab65",
   "metadata": {},
   "outputs": [
    {
     "name": "stdout",
     "output_type": "stream",
     "text": [
      "The difference between heights: 25\n"
     ]
    }
   ],
   "source": [
    "heights_difference=heights[tallest_heights]-heights[shortest_heights]\n",
    "print(\"The difference between heights:\", heights_difference)"
   ]
  },
  {
   "cell_type": "code",
   "execution_count": null,
   "id": "82efa26b",
   "metadata": {},
   "outputs": [],
   "source": [
    "#Randomly select 5 heights from the dataset without replacement."
   ]
  },
  {
   "cell_type": "code",
   "execution_count": 23,
   "id": "b0f31eb1",
   "metadata": {},
   "outputs": [
    {
     "name": "stdout",
     "output_type": "stream",
     "text": [
      "Sample without replacement: [172 180 165 158 155]\n"
     ]
    }
   ],
   "source": [
    "heights_no_replacement = np.random.choice(heights, 5, replace=False)\n",
    "print(\"Sample without replacement:\", heights_no_replacement)"
   ]
  },
  {
   "cell_type": "code",
   "execution_count": null,
   "id": "9c3519be",
   "metadata": {},
   "outputs": [],
   "source": [
    "#Randomly select 5 heights from the dataset with replacement."
   ]
  },
  {
   "cell_type": "code",
   "execution_count": 24,
   "id": "fc2298bd",
   "metadata": {},
   "outputs": [
    {
     "name": "stdout",
     "output_type": "stream",
     "text": [
      "Sample with replacement: [163 171 172 165 158]\n"
     ]
    }
   ],
   "source": [
    "heights_with_replacement = np.random.choice(heights, 5, replace=True)\n",
    "print(\"Sample with replacement:\", heights_with_replacement)"
   ]
  },
  {
   "cell_type": "code",
   "execution_count": null,
   "id": "3a3e2d51",
   "metadata": {},
   "outputs": [],
   "source": []
  }
 ],
 "metadata": {
  "kernelspec": {
   "display_name": "Python 3 (ipykernel)",
   "language": "python",
   "name": "python3"
  },
  "language_info": {
   "codemirror_mode": {
    "name": "ipython",
    "version": 3
   },
   "file_extension": ".py",
   "mimetype": "text/x-python",
   "name": "python",
   "nbconvert_exporter": "python",
   "pygments_lexer": "ipython3",
   "version": "3.11.7"
  }
 },
 "nbformat": 4,
 "nbformat_minor": 5
}
